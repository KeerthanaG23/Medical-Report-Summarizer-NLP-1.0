{
 "cells": [
  {
   "cell_type": "code",
   "execution_count": 26,
   "id": "3f4fd3cb-0ab0-4940-ba58-084da86546f0",
   "metadata": {},
   "outputs": [],
   "source": [
    "import numpy as np\n",
    "import pandas as pd\n",
    "import matplotlib.pyplot as plt"
   ]
  },
  {
   "cell_type": "code",
   "execution_count": 76,
   "id": "30518824-b284-4027-af80-e8e510c45bc9",
   "metadata": {},
   "outputs": [],
   "source": [
    "from datasets import load_dataset\n",
    "\n",
    "t_df = load_dataset(\"mystic-leung/medical_cord19\")\n",
    "train_dataset = t_df['train']\n",
    "train_df_full = pd.DataFrame(train_dataset)\n",
    "df = train_df_full.head(2000)\n",
    "data=df['input'][:1]"
   ]
  },
  {
   "cell_type": "code",
   "execution_count": 80,
   "id": "b3b1edfb-b1b8-4fef-8fd5-9fc2ca42a21b",
   "metadata": {
    "tags": []
   },
   "outputs": [
    {
     "data": {
      "text/plain": [
       "numpy.ndarray"
      ]
     },
     "execution_count": 80,
     "metadata": {},
     "output_type": "execute_result"
    }
   ],
   "source": [
    "type(data)"
   ]
  },
  {
   "cell_type": "code",
   "execution_count": 78,
   "id": "203e208f-8182-4a00-905b-e74e4d271c76",
   "metadata": {},
   "outputs": [],
   "source": [
    "data = np.array(data)"
   ]
  },
  {
   "cell_type": "code",
   "execution_count": 79,
   "id": "ea1ef60e-d199-4ec5-b7e5-c5bf1fbdc24e",
   "metadata": {},
   "outputs": [
    {
     "data": {
      "text/plain": [
       "array(['Cardiovascular disease is the leading cause of death globally. While pharmacological advancements have improved the morbidity and mortality associated with cardiovascular disease, non-adherence to prescribed treatment remains a significant barrier to improved patient outcomes. A variety of strategies to improve medication adherence have been tested in clinical trials, and include the following categories: improving patient education, implementing medication reminders, testing cognitive behavioral interventions, reducing medication costs, utilizing healthcare team members, and streamlining medication dosing regimens. In this review, we describe specific trials within each of these categories and highlight the impact of each on medication adherence. We also examine ongoing trials and future lines of inquiry for improving medication adherence in patients with cardiovascular diseases.'],\n",
       "      dtype=object)"
      ]
     },
     "execution_count": 79,
     "metadata": {},
     "output_type": "execute_result"
    }
   ],
   "source": [
    "data"
   ]
  },
  {
   "cell_type": "code",
   "execution_count": null,
   "id": "2161ab67-3829-45e4-ba24-4fe5152fb15b",
   "metadata": {},
   "outputs": [],
   "source": [
    "import re\n",
    "from nltk.tokenize import sent_tokenize\n",
    "\n",
    "def pre_processing(text):\n",
    "    \n",
    "    # text to sentence\n",
    "    tokenized = sent_tokenize(text)\n",
    "    \n",
    "    # Remove Punctuation\n",
    "    # Lower Case \n",
    "    # Strip White Spaces\n",
    "    pattern   = re.compile(r'[^a-zA-Z0-9\\s]')\n",
    "    tokenized = [pattern.sub('', sent).strip().lower() for sent in tokenized]\n",
    "    \n",
    "    return tokenized\n",
    "\n",
    "corpus = []\n",
    "for doc in data:\n",
    "    corpus.extend(pre_processing(doc))\n",
    "    \n",
    "print(\"Number of Sentences in Corpus : \", len(corpus))"
   ]
  },
  {
   "cell_type": "code",
   "execution_count": 82,
   "id": "a2d1be5a-d6dd-4883-a24b-d82079ad6ccf",
   "metadata": {},
   "outputs": [
    {
     "data": {
      "text/plain": [
       "array(['Cardiovascular disease is the leading cause of death globally. While pharmacological advancements have improved the morbidity and mortality associated with cardiovascular disease, non-adherence to prescribed treatment remains a significant barrier to improved patient outcomes. A variety of strategies to improve medication adherence have been tested in clinical trials, and include the following categories: improving patient education, implementing medication reminders, testing cognitive behavioral interventions, reducing medication costs, utilizing healthcare team members, and streamlining medication dosing regimens. In this review, we describe specific trials within each of these categories and highlight the impact of each on medication adherence. We also examine ongoing trials and future lines of inquiry for improving medication adherence in patients with cardiovascular diseases.'],\n",
       "      dtype=object)"
      ]
     },
     "execution_count": 82,
     "metadata": {},
     "output_type": "execute_result"
    }
   ],
   "source": [
    "data"
   ]
  },
  {
   "cell_type": "code",
   "execution_count": 83,
   "id": "3eccc2f4-62f2-47d1-a4b0-15ecd2c06c1c",
   "metadata": {},
   "outputs": [],
   "source": [
    "out=df['output']"
   ]
  },
  {
   "cell_type": "code",
   "execution_count": 84,
   "id": "4c857990-d590-455f-aa17-8dfb226f1e5d",
   "metadata": {},
   "outputs": [],
   "source": [
    "input_text = \"The legal and illegal trade in wildlife for food, medicine and other products is a globally significant threat to biodiversity that is also responsible for the emergence of pathogens that threaten human and livestock health and our global economy. Trade in wildlife likely played a role in the origin of COVID-19, and viruses closely related to SARS-CoV-2 have been identified in bats and pangolins, both traded widely. To investigate the possible role of pangolins as a source of potential zoonoses, we collected throat and rectal swabs from 334 Sunda pangolins (Manis javanica) confiscated in Peninsular Malaysia and Sabah between August 2009 and March 2019. Total nucleic acid was extracted for viral molecular screening using conventional PCR protocols used to routinely identify known and novel viruses in extensive prior sampling (> 50,000 mammals). No sample yielded a positive PCR result for any of the targeted viral families-Coronaviridae, Filoviridae, Flaviviridae, Orthomyxoviridae and Paramyxoviridae. In the light of recent reports of coronaviruses including a SARS-CoV-2-related virus in Sunda pangolins in China, the lack of any coronavirus detection in our 'upstream' market chain samples suggests that these detections in 'downstream' animals more plausibly reflect exposure to infected humans, wildlife or other animals within the wildlife trade network. While confirmatory serologic studies are needed, it is likely that Sunda pangolins are incidental hosts of coronaviruses. Our findings further support the importance of ending the trade in wildlife globally.\"\n",
    "\n",
    "\n",
    "input_text = input_text.replace(\"\\n\", \" \")\n",
    "sentences = sent_tokenize(input_text)\n",
    "input_tok = pre_processing(input_text)"
   ]
  },
  {
   "cell_type": "code",
   "execution_count": 85,
   "id": "4b6f6570-0732-4230-b4e0-3e2f8654ea5c",
   "metadata": {},
   "outputs": [],
   "source": [
    "from rouge_score import rouge_scorer\n",
    "\n",
    "expected = \"The SARS-CoV-2 pandemic has created a pressing need for vaccines effective against mutated variants. Peptide vaccines offer a promising solution due to their efficient design process. Three potential vaccine regions have been identified, meeting criteria of surface exposure and immune response generation. Crucially, these regions lack mutations seen in prevailing variants, making them viable candidates for combating future strains.\"\n",
    "\n",
    "expected = expected.replace(\"\\n\", \" \").strip()\n",
    "\n",
    "def rouge_metrics(summary):\n",
    "    \n",
    "    scorer = rouge_scorer.RougeScorer(['rouge1'], use_stemmer=True)\n",
    "    scores = scorer.score(summary, expected)\n",
    "    \n",
    "    print(\"Rouge Score : \", scores, end=\"\\n\\n\")"
   ]
  },
  {
   "cell_type": "code",
   "execution_count": 89,
   "id": "22f67f65-aa87-4b75-af4b-1a4b99af0421",
   "metadata": {},
   "outputs": [],
   "source": [
    "from sklearn.metrics.pairwise import cosine_similarity\n",
    "import networkx as nx\n",
    "\n",
    "def summarize(input_vec):\n",
    "    # Cosine Similarity\n",
    "    similarity_matrix = cosine_similarity(input_vec, input_vec)\n",
    "\n",
    "    # Matrix to Graph\n",
    "    G = nx.from_numpy_array(similarity_matrix)\n",
    "\n",
    "    # PageRank Algorithm\n",
    "    pagerank_scores = nx.pagerank(G)\n",
    "\n",
    "    # Sort sentences based on PageRank Scores\n",
    "    sorted_sentences = sorted(pagerank_scores, key=pagerank_scores.get, reverse=True)\n",
    "\n",
    "    # Select top 10 \n",
    "    top_k = 3\n",
    "    summary = [sentences[i] for i in sorted_sentences[:top_k]]\n",
    "\n",
    "    print(\" \".join(summary))"
   ]
  },
  {
   "cell_type": "code",
   "execution_count": 90,
   "id": "ebc19842-3ab5-4000-8801-075c2d5d3c1b",
   "metadata": {},
   "outputs": [],
   "source": [
    "from sklearn.feature_extraction.text import CountVectorizer\n",
    "\n",
    "bag_of_words = CountVectorizer()\n",
    "\n",
    "corpus_bow = bag_of_words.fit_transform(corpus)\n",
    "input_bow  = bag_of_words.transform(input_tok)"
   ]
  },
  {
   "cell_type": "code",
   "execution_count": 91,
   "id": "ce53904f-3a9b-4ace-9b36-ddc93e2eedc4",
   "metadata": {},
   "outputs": [
    {
     "name": "stdout",
     "output_type": "stream",
     "text": [
      "To investigate the possible role of pangolins as a source of potential zoonoses, we collected throat and rectal swabs from 334 Sunda pangolins (Manis javanica) confiscated in Peninsular Malaysia and Sabah between August 2009 and March 2019. The legal and illegal trade in wildlife for food, medicine and other products is a globally significant threat to biodiversity that is also responsible for the emergence of pathogens that threaten human and livestock health and our global economy. Trade in wildlife likely played a role in the origin of COVID-19, and viruses closely related to SARS-CoV-2 have been identified in bats and pangolins, both traded widely.\n"
     ]
    }
   ],
   "source": [
    "summarize(input_bow)"
   ]
  },
  {
   "cell_type": "code",
   "execution_count": 92,
   "id": "a5df2c27-36d3-4118-9d1c-86b72086d031",
   "metadata": {},
   "outputs": [
    {
     "name": "stdout",
     "output_type": "stream",
     "text": [
      "The legal and illegal trade in wildlife for food, medicine and other products is a globally significant threat to biodiversity that is also responsible for the emergence of pathogens that threaten human and livestock health and our global economy. To investigate the possible role of pangolins as a source of potential zoonoses, we collected throat and rectal swabs from 334 Sunda pangolins (Manis javanica) confiscated in Peninsular Malaysia and Sabah between August 2009 and March 2019. Trade in wildlife likely played a role in the origin of COVID-19, and viruses closely related to SARS-CoV-2 have been identified in bats and pangolins, both traded widely.\n"
     ]
    }
   ],
   "source": [
    "from sklearn.feature_extraction.text import TfidfVectorizer\n",
    "\n",
    "tf_idf = TfidfVectorizer()\n",
    "\n",
    "corpus_idf = tf_idf.fit_transform(corpus)\n",
    "input_idf = tf_idf.transform(input_tok)\n",
    "summarize(input_idf)"
   ]
  },
  {
   "cell_type": "code",
   "execution_count": 93,
   "id": "b3ace5b8-e342-41c0-be35-74fb0bcfc206",
   "metadata": {},
   "outputs": [],
   "source": [
    "from gensim.models import Word2Vec\n",
    "from nltk.tokenize import word_tokenize\n",
    "\n",
    "g_model = Word2Vec(sentences=[word_tokenize(sent) for sent in corpus], vector_size=200, window=5, workers=5, epochs=500)"
   ]
  },
  {
   "cell_type": "code",
   "execution_count": 94,
   "id": "2f264408-1a12-486d-ad23-a34a726646bf",
   "metadata": {},
   "outputs": [],
   "source": [
    "def get_embeddings(sent_l):\n",
    "    vec = np.array([g_model.wv[word] if word in g_model.wv else np.zeros((200)) for word in sent_l])\n",
    "    vec = vec.sum(axis=0)\n",
    "    return vec\n",
    "\n",
    "input_cbow = np.array([get_embeddings(sent) for sent in [word_tokenize(sent) for sent in input_tok]])"
   ]
  },
  {
   "cell_type": "code",
   "execution_count": 95,
   "id": "ff3513f4-7b83-4301-9cbe-eee38eea7240",
   "metadata": {},
   "outputs": [
    {
     "name": "stdout",
     "output_type": "stream",
     "text": [
      "No sample yielded a positive PCR result for any of the targeted viral families-Coronaviridae, Filoviridae, Flaviviridae, Orthomyxoviridae and Paramyxoviridae. To investigate the possible role of pangolins as a source of potential zoonoses, we collected throat and rectal swabs from 334 Sunda pangolins (Manis javanica) confiscated in Peninsular Malaysia and Sabah between August 2009 and March 2019. Trade in wildlife likely played a role in the origin of COVID-19, and viruses closely related to SARS-CoV-2 have been identified in bats and pangolins, both traded widely.\n"
     ]
    }
   ],
   "source": [
    "summarize(input_cbow)"
   ]
  },
  {
   "cell_type": "code",
   "execution_count": 96,
   "id": "a3973767-c8b7-42b0-8f6f-e1b307698745",
   "metadata": {},
   "outputs": [],
   "source": [
    "from gensim.models import Word2Vec\n",
    "from nltk.tokenize import word_tokenize\n",
    "\n",
    "g_model = Word2Vec(sentences=[word_tokenize(sent) for sent in corpus], vector_size=200, window=5, workers=5, epochs=500, sg=1)"
   ]
  },
  {
   "cell_type": "code",
   "execution_count": 97,
   "id": "6dd05594-3bf9-43a4-a3bd-b48490e6d8b3",
   "metadata": {},
   "outputs": [],
   "source": [
    "def get_embeddings(sent_l):\n",
    "    vec = np.array([g_model.wv[word] if word in g_model.wv else np.zeros((200)) for word in sent_l])\n",
    "    vec = vec.sum(axis=0)\n",
    "    return vec\n",
    "\n",
    "input_sg = np.array([get_embeddings(sent) for sent in [word_tokenize(sent) for sent in input_tok]])"
   ]
  },
  {
   "cell_type": "code",
   "execution_count": 98,
   "id": "96d9eb8d-5c55-48a7-b6ac-b6e9e72b51a9",
   "metadata": {},
   "outputs": [
    {
     "name": "stdout",
     "output_type": "stream",
     "text": [
      "No sample yielded a positive PCR result for any of the targeted viral families-Coronaviridae, Filoviridae, Flaviviridae, Orthomyxoviridae and Paramyxoviridae. To investigate the possible role of pangolins as a source of potential zoonoses, we collected throat and rectal swabs from 334 Sunda pangolins (Manis javanica) confiscated in Peninsular Malaysia and Sabah between August 2009 and March 2019. Trade in wildlife likely played a role in the origin of COVID-19, and viruses closely related to SARS-CoV-2 have been identified in bats and pangolins, both traded widely.\n"
     ]
    }
   ],
   "source": [
    "summarize(input_sg)"
   ]
  },
  {
   "cell_type": "code",
   "execution_count": 99,
   "id": "21927270-9164-48f8-b15b-cc4447efec4a",
   "metadata": {},
   "outputs": [],
   "source": [
    "import gensim.downloader as api\n",
    "\n",
    "model = api.load(\"glove-wiki-gigaword-200\")\n",
    "\n",
    "def get_embeddings(sent_l):\n",
    "    vec = np.array([model[word] if word in model else np.zeros((200)) for word in sent_l])\n",
    "    vec = vec.sum(axis=0)\n",
    "    return vec\n",
    "\n",
    "input_wv = np.array([get_embeddings(sent) for sent in [word_tokenize(sent) for sent in input_tok]])"
   ]
  },
  {
   "cell_type": "code",
   "execution_count": null,
   "id": "40f8e289-d815-4958-ae51-c55c4f0b01ce",
   "metadata": {},
   "outputs": [],
   "source": [
    "summarize(input_wv)"
   ]
  }
 ],
 "metadata": {
  "kernelspec": {
   "display_name": "Python 3 (ipykernel)",
   "language": "python",
   "name": "python3"
  },
  "language_info": {
   "codemirror_mode": {
    "name": "ipython",
    "version": 3
   },
   "file_extension": ".py",
   "mimetype": "text/x-python",
   "name": "python",
   "nbconvert_exporter": "python",
   "pygments_lexer": "ipython3",
   "version": "3.9.13"
  }
 },
 "nbformat": 4,
 "nbformat_minor": 5
}
